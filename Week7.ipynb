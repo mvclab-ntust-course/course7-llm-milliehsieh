{
  "nbformat": 4,
  "nbformat_minor": 0,
  "metadata": {
    "colab": {
      "provenance": [],
      "gpuType": "T4"
    },
    "kernelspec": {
      "name": "python3",
      "display_name": "Python 3"
    },
    "language_info": {
      "name": "python"
    },
    "accelerator": "GPU"
  },
  "cells": [
    {
      "cell_type": "code",
      "execution_count": null,
      "metadata": {
        "colab": {
          "base_uri": "https://localhost:8080/"
        },
        "id": "2KPj4PtCda0-",
        "outputId": "9064580f-e5e4-408b-a80f-5a877f8e8c98"
      },
      "outputs": [
        {
          "output_type": "stream",
          "name": "stdout",
          "text": [
            "\u001b[2K     \u001b[90m━━━━━━━━━━━━━━━━━━━━━━━━━━━━━━━━━━━━━━━━\u001b[0m \u001b[32m119.8/119.8 MB\u001b[0m \u001b[31m7.3 MB/s\u001b[0m eta \u001b[36m0:00:00\u001b[0m\n",
            "\u001b[2K     \u001b[90m━━━━━━━━━━━━━━━━━━━━━━━━━━━━━━━━━━━━━━━━\u001b[0m \u001b[32m251.6/251.6 kB\u001b[0m \u001b[31m13.9 MB/s\u001b[0m eta \u001b[36m0:00:00\u001b[0m\n",
            "\u001b[2K     \u001b[90m━━━━━━━━━━━━━━━━━━━━━━━━━━━━━━━━━━━━━━━━\u001b[0m \u001b[32m309.4/309.4 kB\u001b[0m \u001b[31m15.2 MB/s\u001b[0m eta \u001b[36m0:00:00\u001b[0m\n",
            "\u001b[2K     \u001b[90m━━━━━━━━━━━━━━━━━━━━━━━━━━━━━━━━━━━━━━━━\u001b[0m \u001b[32m21.3/21.3 MB\u001b[0m \u001b[31m14.8 MB/s\u001b[0m eta \u001b[36m0:00:00\u001b[0m\n",
            "\u001b[?25h"
          ]
        }
      ],
      "source": [
        "!pip install -q transformers bitsandbytes peft accelerate"
      ]
    },
    {
      "cell_type": "code",
      "source": [
        "from transformers import AutoModelForCausalLM, OPTForCausalLM, AutoTokenizer\n",
        "from peft import PeftConfig\n",
        "\n",
        "model_id = \"facebook/opt-350m\"\n",
        "adapter_model_id = \"ybelkada/opt-350m-lora\"\n",
        "tokenizer = AutoTokenizer.from_pretrained(model_id)\n",
        "text = \"Next time\"\n",
        "inputs = tokenizer(text, return_tensors=\"pt\")\n",
        "\n",
        "model = AutoModelForCausalLM.from_pretrained(model_id)\n",
        "# peft_config = PeftConfig.from_pretrained(adapter_model_id)\n",
        "peft_config1 = LoraConfig(\n",
        "    lora_alpha=16,\n",
        "    lora_dropout=0.1,\n",
        "    r=64,\n",
        "    bias=\"none\",\n",
        "    task_type=\"CAUSAL_LM\",\n",
        ")\n",
        "\n",
        "# to initiate with random weights\n",
        "peft_config1.init_lora_weights = False\n",
        "\n",
        "model.add_adapter(peft_config1)\n",
        "model.enable_adapters()\n",
        "output = model.generate(**inputs)\n",
        "output_txt = tokenizer.decode(output[0], skip_special_tokens=True)\n",
        "print(output_txt)"
      ],
      "metadata": {
        "id": "6utSJURpTKeD",
        "outputId": "89150b1d-112d-4392-ebff-8089ab490b11",
        "colab": {
          "base_uri": "https://localhost:8080/"
        }
      },
      "execution_count": null,
      "outputs": [
        {
          "output_type": "stream",
          "name": "stdout",
          "text": [
            "Next time you see him, just say \"I'm not sure if I should be happy or\n"
          ]
        }
      ]
    }
  ]
}